{
 "cells": [
  {
   "cell_type": "markdown",
   "metadata": {},
   "source": [
    "# <center> Predicting Google stock prices <center>\n",
    "    \n",
    "__Introduction:__ In this project we will be predicting google stock prices using LSTM RNN. Usually it's dificult to predict the future price of a stock, but we can predict some trends. We will be trying to predict the upward and downword trends that exist in google stock prices. We will be train our LSTM model on 5 years of the google stock price starting from the begining of 2012 to the end of 2016. Then based on the correlations identified or captured by the LSTM of the google stock price, we will try to predict the first month of 2017."
   ]
  },
  {
   "cell_type": "code",
   "execution_count": 1,
   "metadata": {},
   "outputs": [],
   "source": [
    "# import libraries\n",
    "import numpy as np\n",
    "import matplotlib.pyplot as plt\n",
    "import pandas as pd"
   ]
  },
  {
   "cell_type": "code",
   "execution_count": 2,
   "metadata": {},
   "outputs": [
    {
     "data": {
      "text/plain": [
       "array([[325.25],\n",
       "       [331.27],\n",
       "       [329.83],\n",
       "       ...,\n",
       "       [793.7 ],\n",
       "       [783.33],\n",
       "       [782.75]])"
      ]
     },
     "execution_count": 2,
     "metadata": {},
     "output_type": "execute_result"
    }
   ],
   "source": [
    "# Importing the training set\n",
    "dataset_train = pd.read_csv('..Datasets\\\\Google_Stock_Price_Train.csv')\n",
    "training_set = dataset_train.iloc[:, 1:2].values\n",
    "\n",
    "training_set"
   ]
  },
  {
   "cell_type": "markdown",
   "metadata": {},
   "source": [
    "### Data Preprocessing"
   ]
  },
  {
   "cell_type": "code",
   "execution_count": 3,
   "metadata": {},
   "outputs": [
    {
     "data": {
      "text/plain": [
       "array([[0.08581368],\n",
       "       [0.09701243],\n",
       "       [0.09433366],\n",
       "       ...,\n",
       "       [0.95725128],\n",
       "       [0.93796041],\n",
       "       [0.93688146]])"
      ]
     },
     "execution_count": 3,
     "metadata": {},
     "output_type": "execute_result"
    }
   ],
   "source": [
    "# Feature Scaling using normalization\n",
    "from sklearn.preprocessing import MinMaxScaler\n",
    "sc = MinMaxScaler(feature_range = (0, 1))\n",
    "training_set_scaled = sc.fit_transform(training_set)\n",
    "training_set_scaled"
   ]
  },
  {
   "cell_type": "code",
   "execution_count": 4,
   "metadata": {},
   "outputs": [
    {
     "name": "stdout",
     "output_type": "stream",
     "text": [
      "X_train:\n",
      " [[0.08581368 0.09701243 0.09433366 ... 0.07846566 0.08034452 0.08497656]\n",
      " [0.09701243 0.09433366 0.09156187 ... 0.08034452 0.08497656 0.08627874]\n",
      " [0.09433366 0.09156187 0.07984225 ... 0.08497656 0.08627874 0.08471612]\n",
      " ...\n",
      " [0.92106928 0.92438053 0.93048218 ... 0.95475854 0.95204256 0.95163331]\n",
      " [0.92438053 0.93048218 0.9299055  ... 0.95204256 0.95163331 0.95725128]\n",
      " [0.93048218 0.9299055  0.93113327 ... 0.95163331 0.95725128 0.93796041]]\n",
      "---------------------------------\n",
      "y_train:\n",
      " [0.08627874 0.08471612 0.07454052 ... 0.95725128 0.93796041 0.93688146]\n"
     ]
    }
   ],
   "source": [
    "# Creating a data structure with 60 timesteps and 1 output\n",
    "X_train = []\n",
    "y_train = []\n",
    "for i in range(60, 1258):\n",
    "    X_train.append(training_set_scaled[i-60:i, 0])\n",
    "    y_train.append(training_set_scaled[i, 0])\n",
    "X_train, y_train = np.array(X_train), np.array(y_train)\n",
    "print(\"X_train:\\n\", X_train)\n",
    "print(\"---------------------------------\")\n",
    "print(\"y_train:\\n\", y_train)"
   ]
  },
  {
   "cell_type": "code",
   "execution_count": 5,
   "metadata": {},
   "outputs": [
    {
     "name": "stdout",
     "output_type": "stream",
     "text": [
      "(1198, 60, 1)\n"
     ]
    }
   ],
   "source": [
    "# reshaping and adding more dimentionality to data\n",
    "X_train = np.reshape(X_train, (X_train.shape[0], X_train.shape[1], 1))\n",
    "print(X_train.shape)\n",
    "#X_train"
   ]
  },
  {
   "cell_type": "markdown",
   "metadata": {},
   "source": [
    "### Building the RNN"
   ]
  },
  {
   "cell_type": "code",
   "execution_count": 6,
   "metadata": {},
   "outputs": [],
   "source": [
    "# Importing the Keras libraries and packages\n",
    "from tensorflow.keras.models import Sequential        # creating NN object\n",
    "from tensorflow.keras.layers import Dense             # The output layer\n",
    "from tensorflow.keras.layers import LSTM              # The LSTM layer\n",
    "from tensorflow.keras.layers import Dropout           # adding dropout regularization"
   ]
  },
  {
   "cell_type": "code",
   "execution_count": 7,
   "metadata": {},
   "outputs": [],
   "source": [
    "# Initialising the RNN\n",
    "regressor = Sequential()"
   ]
  },
  {
   "cell_type": "code",
   "execution_count": 8,
   "metadata": {},
   "outputs": [],
   "source": [
    "# Adding the first LSTM layer and some Dropout regularisation to avoid overfitting\n",
    "regressor.add(LSTM(units = 50, return_sequences = True, input_shape = (X_train.shape[1], 1)))\n",
    "regressor.add(Dropout(0.2))"
   ]
  },
  {
   "cell_type": "code",
   "execution_count": 9,
   "metadata": {},
   "outputs": [],
   "source": [
    "# Adding a second LSTM layer and some Dropout regularisation\n",
    "regressor.add(LSTM(units = 50, return_sequences = True))\n",
    "regressor.add(Dropout(0.2))"
   ]
  },
  {
   "cell_type": "code",
   "execution_count": 10,
   "metadata": {},
   "outputs": [],
   "source": [
    "# Adding a third LSTM layer and some Dropout regularisation\n",
    "regressor.add(LSTM(units = 50, return_sequences = True))\n",
    "regressor.add(Dropout(0.2))"
   ]
  },
  {
   "cell_type": "code",
   "execution_count": 11,
   "metadata": {},
   "outputs": [],
   "source": [
    "# Adding a fourth LSTM layer and some Dropout regularisation\n",
    "regressor.add(LSTM(units = 50))\n",
    "regressor.add(Dropout(0.2))"
   ]
  },
  {
   "cell_type": "code",
   "execution_count": 12,
   "metadata": {},
   "outputs": [],
   "source": [
    "# Adding the output layer\n",
    "regressor.add(Dense(units = 1))"
   ]
  },
  {
   "cell_type": "code",
   "execution_count": 14,
   "metadata": {},
   "outputs": [
    {
     "name": "stdout",
     "output_type": "stream",
     "text": [
      "Train on 1198 samples\n",
      "Epoch 1/100\n",
      "1198/1198 [==============================] - 45s 37ms/sample - loss: 0.0403\n",
      "Epoch 2/100\n",
      "1198/1198 [==============================] - 14s 12ms/sample - loss: 0.0069\n",
      "Epoch 3/100\n",
      "1198/1198 [==============================] - 15s 12ms/sample - loss: 0.0053\n",
      "Epoch 4/100\n",
      "1198/1198 [==============================] - 15s 12ms/sample - loss: 0.0052\n",
      "Epoch 5/100\n",
      "1198/1198 [==============================] - 15s 13ms/sample - loss: 0.0054\n",
      "Epoch 6/100\n",
      "1198/1198 [==============================] - 15s 13ms/sample - loss: 0.0049\n",
      "Epoch 7/100\n",
      "1198/1198 [==============================] - 15s 13ms/sample - loss: 0.0040\n",
      "Epoch 8/100\n",
      "1198/1198 [==============================] - 15s 13ms/sample - loss: 0.0045\n",
      "Epoch 9/100\n",
      "1198/1198 [==============================] - 14s 12ms/sample - loss: 0.0043\n",
      "Epoch 10/100\n",
      "1198/1198 [==============================] - 16s 13ms/sample - loss: 0.0042\n",
      "Epoch 11/100\n",
      "1198/1198 [==============================] - 14s 12ms/sample - loss: 0.0040\n",
      "Epoch 12/100\n",
      "1198/1198 [==============================] - 15s 12ms/sample - loss: 0.0039\n",
      "Epoch 13/100\n",
      "1198/1198 [==============================] - 15s 12ms/sample - loss: 0.0046\n",
      "Epoch 14/100\n",
      "1198/1198 [==============================] - 14s 12ms/sample - loss: 0.0036\n",
      "Epoch 15/100\n",
      "1198/1198 [==============================] - 16s 13ms/sample - loss: 0.0040\n",
      "Epoch 16/100\n",
      "1198/1198 [==============================] - 15s 12ms/sample - loss: 0.0036\n",
      "Epoch 17/100\n",
      "1198/1198 [==============================] - 14s 12ms/sample - loss: 0.0036\n",
      "Epoch 18/100\n",
      "1198/1198 [==============================] - 14s 12ms/sample - loss: 0.0037\n",
      "Epoch 19/100\n",
      "1198/1198 [==============================] - 15s 13ms/sample - loss: 0.0039\n",
      "Epoch 20/100\n",
      "1198/1198 [==============================] - 14s 12ms/sample - loss: 0.0032\n",
      "Epoch 21/100\n",
      "1198/1198 [==============================] - 14s 12ms/sample - loss: 0.0037\n",
      "Epoch 22/100\n",
      "1198/1198 [==============================] - 15s 12ms/sample - loss: 0.0034\n",
      "Epoch 23/100\n",
      "1198/1198 [==============================] - 15s 13ms/sample - loss: 0.0033\n",
      "Epoch 24/100\n",
      "1198/1198 [==============================] - 16s 13ms/sample - loss: 0.0030\n",
      "Epoch 25/100\n",
      "1198/1198 [==============================] - 15s 12ms/sample - loss: 0.0031\n",
      "Epoch 26/100\n",
      "1198/1198 [==============================] - 15s 12ms/sample - loss: 0.0031\n",
      "Epoch 27/100\n",
      "1198/1198 [==============================] - 15s 12ms/sample - loss: 0.0030\n",
      "Epoch 28/100\n",
      "1198/1198 [==============================] - 16s 14ms/sample - loss: 0.0029\n",
      "Epoch 29/100\n",
      "1198/1198 [==============================] - 14s 12ms/sample - loss: 0.0029\n",
      "Epoch 30/100\n",
      "1198/1198 [==============================] - 15s 13ms/sample - loss: 0.0029\n",
      "Epoch 31/100\n",
      "1198/1198 [==============================] - 16s 13ms/sample - loss: 0.0027\n",
      "Epoch 32/100\n",
      "1198/1198 [==============================] - 17s 14ms/sample - loss: 0.0031\n",
      "Epoch 33/100\n",
      "1198/1198 [==============================] - 15s 12ms/sample - loss: 0.0029\n",
      "Epoch 34/100\n",
      "1198/1198 [==============================] - 15s 13ms/sample - loss: 0.0028\n",
      "Epoch 35/100\n",
      "1198/1198 [==============================] - 15s 13ms/sample - loss: 0.0028\n",
      "Epoch 36/100\n",
      "1198/1198 [==============================] - 17s 14ms/sample - loss: 0.0031\n",
      "Epoch 37/100\n",
      "1198/1198 [==============================] - 15s 13ms/sample - loss: 0.0029\n",
      "Epoch 38/100\n",
      "1198/1198 [==============================] - 16s 13ms/sample - loss: 0.0026\n",
      "Epoch 39/100\n",
      "1198/1198 [==============================] - 16s 13ms/sample - loss: 0.0033\n",
      "Epoch 40/100\n",
      "1198/1198 [==============================] - 15s 13ms/sample - loss: 0.0027\n",
      "Epoch 41/100\n",
      "1198/1198 [==============================] - 18s 15ms/sample - loss: 0.0025\n",
      "Epoch 42/100\n",
      "1198/1198 [==============================] - 16s 13ms/sample - loss: 0.0026\n",
      "Epoch 43/100\n",
      "1198/1198 [==============================] - 15s 13ms/sample - loss: 0.0025\n",
      "Epoch 44/100\n",
      "1198/1198 [==============================] - 15s 13ms/sample - loss: 0.0025\n",
      "Epoch 45/100\n",
      "1198/1198 [==============================] - 15s 12ms/sample - loss: 0.0023\n",
      "Epoch 46/100\n",
      "1198/1198 [==============================] - 12s 10ms/sample - loss: 0.0024\n",
      "Epoch 47/100\n",
      "1198/1198 [==============================] - 14s 11ms/sample - loss: 0.0027\n",
      "Epoch 48/100\n",
      "1198/1198 [==============================] - 12s 10ms/sample - loss: 0.0025\n",
      "Epoch 49/100\n",
      "1198/1198 [==============================] - 13s 11ms/sample - loss: 0.0025\n",
      "Epoch 50/100\n",
      "1198/1198 [==============================] - 14s 12ms/sample - loss: 0.0026\n",
      "Epoch 51/100\n",
      "1198/1198 [==============================] - 13s 11ms/sample - loss: 0.0025\n",
      "Epoch 52/100\n",
      "1198/1198 [==============================] - 12s 10ms/sample - loss: 0.0028\n",
      "Epoch 53/100\n",
      "1198/1198 [==============================] - 16s 13ms/sample - loss: 0.0023\n",
      "Epoch 54/100\n",
      "1198/1198 [==============================] - 16s 13ms/sample - loss: 0.0021\n",
      "Epoch 55/100\n",
      "1198/1198 [==============================] - 14s 12ms/sample - loss: 0.0024\n",
      "Epoch 56/100\n",
      "1198/1198 [==============================] - 13s 11ms/sample - loss: 0.0022\n",
      "Epoch 57/100\n",
      "1198/1198 [==============================] - 15s 12ms/sample - loss: 0.0024\n",
      "Epoch 58/100\n",
      "1198/1198 [==============================] - 16s 14ms/sample - loss: 0.0021\n",
      "Epoch 59/100\n",
      "1198/1198 [==============================] - 16s 14ms/sample - loss: 0.0021\n",
      "Epoch 60/100\n",
      "1198/1198 [==============================] - 15s 13ms/sample - loss: 0.0021\n",
      "Epoch 61/100\n",
      "1198/1198 [==============================] - 15s 13ms/sample - loss: 0.0022\n",
      "Epoch 62/100\n",
      "1198/1198 [==============================] - 15s 12ms/sample - loss: 0.0021\n",
      "Epoch 63/100\n",
      "1198/1198 [==============================] - 15s 13ms/sample - loss: 0.0021\n",
      "Epoch 64/100\n",
      "1198/1198 [==============================] - 15s 12ms/sample - loss: 0.0019\n",
      "Epoch 65/100\n",
      "1198/1198 [==============================] - 14s 12ms/sample - loss: 0.0020\n",
      "Epoch 66/100\n",
      "1198/1198 [==============================] - 15s 13ms/sample - loss: 0.0020\n",
      "Epoch 67/100\n",
      "1198/1198 [==============================] - 15s 13ms/sample - loss: 0.0017\n",
      "Epoch 68/100\n",
      "1198/1198 [==============================] - 15s 12ms/sample - loss: 0.0019\n",
      "Epoch 69/100\n",
      "1198/1198 [==============================] - 16s 13ms/sample - loss: 0.0020\n",
      "Epoch 70/100\n",
      "1198/1198 [==============================] - 14s 12ms/sample - loss: 0.0021\n",
      "Epoch 71/100\n",
      "1198/1198 [==============================] - 16s 13ms/sample - loss: 0.0020\n",
      "Epoch 72/100\n",
      "1198/1198 [==============================] - 14s 12ms/sample - loss: 0.0020\n",
      "Epoch 73/100\n",
      "1198/1198 [==============================] - 14s 12ms/sample - loss: 0.0017\n",
      "Epoch 74/100\n",
      "1198/1198 [==============================] - 15s 12ms/sample - loss: 0.0019\n",
      "Epoch 75/100\n",
      "1198/1198 [==============================] - 14s 12ms/sample - loss: 0.0017\n",
      "Epoch 76/100\n",
      "1198/1198 [==============================] - 15s 13ms/sample - loss: 0.0017\n",
      "Epoch 77/100\n",
      "1198/1198 [==============================] - 14s 12ms/sample - loss: 0.0019\n",
      "Epoch 78/100\n",
      "1198/1198 [==============================] - 14s 12ms/sample - loss: 0.0017\n",
      "Epoch 79/100\n",
      "1198/1198 [==============================] - 15s 13ms/sample - loss: 0.0015\n",
      "Epoch 80/100\n",
      "1198/1198 [==============================] - 14s 12ms/sample - loss: 0.0017\n",
      "Epoch 81/100\n",
      "1198/1198 [==============================] - 15s 13ms/sample - loss: 0.0017\n",
      "Epoch 82/100\n",
      "1198/1198 [==============================] - 15s 13ms/sample - loss: 0.0018\n",
      "Epoch 83/100\n",
      "1198/1198 [==============================] - 13s 11ms/sample - loss: 0.0018\n",
      "Epoch 84/100\n",
      "1198/1198 [==============================] - 12s 10ms/sample - loss: 0.0017\n",
      "Epoch 85/100\n",
      "1198/1198 [==============================] - 13s 11ms/sample - loss: 0.0017\n",
      "Epoch 86/100\n",
      "1198/1198 [==============================] - 13s 11ms/sample - loss: 0.0017\n",
      "Epoch 87/100\n",
      "1198/1198 [==============================] - 12s 10ms/sample - loss: 0.0014\n",
      "Epoch 88/100\n",
      "1198/1198 [==============================] - 12s 10ms/sample - loss: 0.0016\n",
      "Epoch 89/100\n",
      "1198/1198 [==============================] - 13s 10ms/sample - loss: 0.0015\n",
      "Epoch 90/100\n",
      "1198/1198 [==============================] - 13s 11ms/sample - loss: 0.0015\n",
      "Epoch 91/100\n",
      "1198/1198 [==============================] - 12s 10ms/sample - loss: 0.0015\n",
      "Epoch 92/100\n",
      "1198/1198 [==============================] - 12s 10ms/sample - loss: 0.0016\n",
      "Epoch 93/100\n",
      "1198/1198 [==============================] - 12s 10ms/sample - loss: 0.0014\n",
      "Epoch 94/100\n",
      "1198/1198 [==============================] - 12s 10ms/sample - loss: 0.0015\n",
      "Epoch 95/100\n",
      "1198/1198 [==============================] - 14s 12ms/sample - loss: 0.0015\n",
      "Epoch 96/100\n",
      "1198/1198 [==============================] - 13s 11ms/sample - loss: 0.0014\n",
      "Epoch 97/100\n",
      "1198/1198 [==============================] - 14s 12ms/sample - loss: 0.0017\n",
      "Epoch 98/100\n",
      "1198/1198 [==============================] - 15s 12ms/sample - loss: 0.0015\n",
      "Epoch 99/100\n",
      "1198/1198 [==============================] - 13s 11ms/sample - loss: 0.0014\n",
      "Epoch 100/100\n",
      "1198/1198 [==============================] - 14s 12ms/sample - loss: 0.0015\n"
     ]
    },
    {
     "data": {
      "text/plain": [
       "<tensorflow.python.keras.callbacks.History at 0x1b5232a37b8>"
      ]
     },
     "execution_count": 14,
     "metadata": {},
     "output_type": "execute_result"
    }
   ],
   "source": [
    "# Compiling the RNN\n",
    "regressor.compile(optimizer = 'adam', loss = 'mean_squared_error')\n",
    "\n",
    "# Fitting the RNN to the Training set\n",
    "regressor.fit(X_train, y_train, epochs = 100, batch_size = 32)"
   ]
  },
  {
   "cell_type": "markdown",
   "metadata": {},
   "source": [
    "### Making the predictions and visualising the results"
   ]
  },
  {
   "cell_type": "code",
   "execution_count": 18,
   "metadata": {},
   "outputs": [
    {
     "data": {
      "text/plain": [
       "(20, 1)"
      ]
     },
     "execution_count": 18,
     "metadata": {},
     "output_type": "execute_result"
    }
   ],
   "source": [
    "# Getting the real stock price of january 2017\n",
    "dataset_test = pd.read_csv('C:\\\\Users\\\\Baash\\\\Desktop\\\\Datasets\\\\Google_Stock_Price_Test.csv')\n",
    "real_stock_price = dataset_test.iloc[:, 1:2].values\n",
    "real_stock_price.shape"
   ]
  },
  {
   "cell_type": "code",
   "execution_count": 19,
   "metadata": {},
   "outputs": [],
   "source": [
    "# Getting the predicted stock price of 2017\n",
    "dataset_total = pd.concat((dataset_train['Open'], dataset_test['Open']), axis = 0)\n",
    "inputs = dataset_total[len(dataset_total) - len(dataset_test) - 60:].values\n",
    "inputs = inputs.reshape(-1,1)\n",
    "inputs = sc.transform(inputs)\n",
    "X_test = []\n",
    "for i in range(60, 80):\n",
    "    X_test.append(inputs[i-60:i, 0])\n",
    "X_test = np.array(X_test)\n",
    "X_test = np.reshape(X_test, (X_test.shape[0], X_test.shape[1], 1))\n",
    "predicted_stock_price = regressor.predict(X_test)\n",
    "predicted_stock_price = sc.inverse_transform(predicted_stock_price)"
   ]
  },
  {
   "cell_type": "code",
   "execution_count": 27,
   "metadata": {},
   "outputs": [
    {
     "data": {
      "image/png": "[encoded data removed]",
      "text/plain": [
       "<Figure size 432x288 with 1 Axes>"
      ]
     },
     "metadata": {
      "needs_background": "light"
     },
     "output_type": "display_data"
    }
   ],
   "source": [
    "# Visualising the results\n",
    "plt.plot(real_stock_price, color = 'red', label = 'Real Google Stock Price')\n",
    "plt.plot(predicted_stock_price, color = 'blue', label = 'Predicted Google Stock Price')\n",
    "plt.title('Google Stock Price Prediction')\n",
    "plt.xlabel('Time')\n",
    "plt.ylabel('Google Stock Price')\n",
    "plt.legend()\n",
    ",plt.show()"
   ]
  },
  {
   "cell_type": "markdown",
   "metadata": {},
   "source": [
    "# <center> THE END <center>"
   ]
  },
  {
   "cell_type": "code",
   "execution_count": null,
   "metadata": {},
   "outputs": [],
   "source": []
  }
 ],
 "metadata": {
  "kernelspec": {
   "display_name": "Python 3",
   "language": "python",
   "name": "python3"
  },
  "language_info": {
   "codemirror_mode": {
    "name": "ipython",
    "version": 3
   },
   "file_extension": ".py",
   "mimetype": "text/x-python",
   "name": "python",
   "nbconvert_exporter": "python",
   "pygments_lexer": "ipython3",
   "version": "3.6.10"
  }
 },
 "nbformat": 4,
 "nbformat_minor": 4
}
